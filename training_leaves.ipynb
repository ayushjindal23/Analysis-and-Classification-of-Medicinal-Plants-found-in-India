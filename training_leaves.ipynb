{
 "cells": [
  {
   "cell_type": "markdown",
   "metadata": {},
   "source": [
    "# Plant Leaf Classification\n",
    "\n",
    "Applying machine learning models for classification of plant leaf images"
   ]
  },
  {
   "cell_type": "markdown",
   "metadata": {},
   "source": [
    "### Importing necessary libraries"
   ]
  },
  {
   "cell_type": "code",
   "execution_count": 61,
   "metadata": {},
   "outputs": [],
   "source": [
    "import numpy as np\n",
    "import pandas as pd\n",
    "import os\n",
    "import string"
   ]
  },
  {
   "cell_type": "markdown",
   "metadata": {},
   "source": [
    "### Reading the dataset"
   ]
  },
  {
   "cell_type": "code",
   "execution_count": 62,
   "metadata": {},
   "outputs": [],
   "source": [
    "dataset = pd.read_csv(\"leaf_features1.csv\")"
   ]
  },
  {
   "cell_type": "code",
   "execution_count": 63,
   "metadata": {},
   "outputs": [
    {
     "data": {
      "text/html": [
       "<div>\n",
       "<style scoped>\n",
       "    .dataframe tbody tr th:only-of-type {\n",
       "        vertical-align: middle;\n",
       "    }\n",
       "\n",
       "    .dataframe tbody tr th {\n",
       "        vertical-align: top;\n",
       "    }\n",
       "\n",
       "    .dataframe thead th {\n",
       "        text-align: right;\n",
       "    }\n",
       "</style>\n",
       "<table border=\"1\" class=\"dataframe\">\n",
       "  <thead>\n",
       "    <tr style=\"text-align: right;\">\n",
       "      <th></th>\n",
       "      <th>Unnamed: 0</th>\n",
       "      <th>area</th>\n",
       "      <th>perimeter</th>\n",
       "      <th>physiological_length</th>\n",
       "      <th>physiological_width</th>\n",
       "      <th>aspect_ratio</th>\n",
       "      <th>rectangularity</th>\n",
       "      <th>circularity</th>\n",
       "      <th>mean_r</th>\n",
       "      <th>mean_g</th>\n",
       "      <th>mean_b</th>\n",
       "      <th>stddev_r</th>\n",
       "      <th>stddev_g</th>\n",
       "      <th>stddev_b</th>\n",
       "      <th>contrast</th>\n",
       "      <th>correlation</th>\n",
       "      <th>inverse_difference_moments</th>\n",
       "      <th>entropy</th>\n",
       "    </tr>\n",
       "  </thead>\n",
       "  <tbody>\n",
       "    <tr>\n",
       "      <th>0</th>\n",
       "      <td>0</td>\n",
       "      <td>232549.0</td>\n",
       "      <td>3144.089858</td>\n",
       "      <td>1180</td>\n",
       "      <td>841</td>\n",
       "      <td>1.403092</td>\n",
       "      <td>4.267402</td>\n",
       "      <td>42.508465</td>\n",
       "      <td>8.865354</td>\n",
       "      <td>11.580899</td>\n",
       "      <td>8.398964</td>\n",
       "      <td>27.800215</td>\n",
       "      <td>32.902279</td>\n",
       "      <td>27.403357</td>\n",
       "      <td>25.910622</td>\n",
       "      <td>0.996379</td>\n",
       "      <td>0.897422</td>\n",
       "      <td>1.931667</td>\n",
       "    </tr>\n",
       "    <tr>\n",
       "      <th>1</th>\n",
       "      <td>0</td>\n",
       "      <td>474562.5</td>\n",
       "      <td>3473.489792</td>\n",
       "      <td>1219</td>\n",
       "      <td>909</td>\n",
       "      <td>1.341034</td>\n",
       "      <td>2.334932</td>\n",
       "      <td>25.423693</td>\n",
       "      <td>23.752019</td>\n",
       "      <td>30.081827</td>\n",
       "      <td>16.240280</td>\n",
       "      <td>43.429020</td>\n",
       "      <td>53.242972</td>\n",
       "      <td>33.112202</td>\n",
       "      <td>19.731937</td>\n",
       "      <td>0.997756</td>\n",
       "      <td>0.822875</td>\n",
       "      <td>3.369693</td>\n",
       "    </tr>\n",
       "    <tr>\n",
       "      <th>2</th>\n",
       "      <td>0</td>\n",
       "      <td>419871.0</td>\n",
       "      <td>3987.515395</td>\n",
       "      <td>1411</td>\n",
       "      <td>1160</td>\n",
       "      <td>1.216379</td>\n",
       "      <td>3.898245</td>\n",
       "      <td>37.869439</td>\n",
       "      <td>17.470908</td>\n",
       "      <td>23.944648</td>\n",
       "      <td>13.222306</td>\n",
       "      <td>36.482656</td>\n",
       "      <td>46.329772</td>\n",
       "      <td>31.868380</td>\n",
       "      <td>22.333380</td>\n",
       "      <td>0.997727</td>\n",
       "      <td>0.846861</td>\n",
       "      <td>3.018129</td>\n",
       "    </tr>\n",
       "    <tr>\n",
       "      <th>3</th>\n",
       "      <td>0</td>\n",
       "      <td>435572.0</td>\n",
       "      <td>3009.041968</td>\n",
       "      <td>985</td>\n",
       "      <td>807</td>\n",
       "      <td>1.220570</td>\n",
       "      <td>1.824945</td>\n",
       "      <td>20.787226</td>\n",
       "      <td>19.343993</td>\n",
       "      <td>25.105472</td>\n",
       "      <td>14.664246</td>\n",
       "      <td>37.988880</td>\n",
       "      <td>47.365957</td>\n",
       "      <td>31.541931</td>\n",
       "      <td>20.139154</td>\n",
       "      <td>0.997820</td>\n",
       "      <td>0.840751</td>\n",
       "      <td>3.097287</td>\n",
       "    </tr>\n",
       "    <tr>\n",
       "      <th>4</th>\n",
       "      <td>0</td>\n",
       "      <td>238858.5</td>\n",
       "      <td>4008.541857</td>\n",
       "      <td>1494</td>\n",
       "      <td>1154</td>\n",
       "      <td>1.294627</td>\n",
       "      <td>7.217981</td>\n",
       "      <td>67.271660</td>\n",
       "      <td>11.221184</td>\n",
       "      <td>14.514543</td>\n",
       "      <td>8.780794</td>\n",
       "      <td>32.630938</td>\n",
       "      <td>39.284535</td>\n",
       "      <td>29.519376</td>\n",
       "      <td>23.323631</td>\n",
       "      <td>0.996223</td>\n",
       "      <td>0.893048</td>\n",
       "      <td>2.002692</td>\n",
       "    </tr>\n",
       "  </tbody>\n",
       "</table>\n",
       "</div>"
      ],
      "text/plain": [
       "   Unnamed: 0      area    perimeter  physiological_length  \\\n",
       "0           0  232549.0  3144.089858                  1180   \n",
       "1           0  474562.5  3473.489792                  1219   \n",
       "2           0  419871.0  3987.515395                  1411   \n",
       "3           0  435572.0  3009.041968                   985   \n",
       "4           0  238858.5  4008.541857                  1494   \n",
       "\n",
       "   physiological_width  aspect_ratio  rectangularity  circularity     mean_r  \\\n",
       "0                  841      1.403092        4.267402    42.508465   8.865354   \n",
       "1                  909      1.341034        2.334932    25.423693  23.752019   \n",
       "2                 1160      1.216379        3.898245    37.869439  17.470908   \n",
       "3                  807      1.220570        1.824945    20.787226  19.343993   \n",
       "4                 1154      1.294627        7.217981    67.271660  11.221184   \n",
       "\n",
       "      mean_g     mean_b   stddev_r   stddev_g   stddev_b   contrast  \\\n",
       "0  11.580899   8.398964  27.800215  32.902279  27.403357  25.910622   \n",
       "1  30.081827  16.240280  43.429020  53.242972  33.112202  19.731937   \n",
       "2  23.944648  13.222306  36.482656  46.329772  31.868380  22.333380   \n",
       "3  25.105472  14.664246  37.988880  47.365957  31.541931  20.139154   \n",
       "4  14.514543   8.780794  32.630938  39.284535  29.519376  23.323631   \n",
       "\n",
       "   correlation  inverse_difference_moments   entropy  \n",
       "0     0.996379                    0.897422  1.931667  \n",
       "1     0.997756                    0.822875  3.369693  \n",
       "2     0.997727                    0.846861  3.018129  \n",
       "3     0.997820                    0.840751  3.097287  \n",
       "4     0.996223                    0.893048  2.002692  "
      ]
     },
     "execution_count": 63,
     "metadata": {},
     "output_type": "execute_result"
    }
   ],
   "source": [
    "dataset.head(5)"
   ]
  },
  {
   "cell_type": "code",
   "execution_count": 64,
   "metadata": {},
   "outputs": [
    {
     "data": {
      "text/plain": [
       "pandas.core.frame.DataFrame"
      ]
     },
     "execution_count": 64,
     "metadata": {},
     "output_type": "execute_result"
    }
   ],
   "source": [
    "type(dataset)"
   ]
  },
  {
   "cell_type": "code",
   "execution_count": 65,
   "metadata": {},
   "outputs": [],
   "source": [
    "maindir = r'D:\\Leaves'\n",
    "img_files = os.listdir(maindir)"
   ]
  },
  {
   "cell_type": "markdown",
   "metadata": {},
   "source": [
    "### Creating target labels\n",
    "\n",
    "Breakpoints are used alongside the image file to create a vector of target labels. The breakpoints are solely made by us."
   ]
  },
  {
   "cell_type": "code",
   "execution_count": 66,
   "metadata": {},
   "outputs": [],
   "source": [
    "breakpoints = ['AG-S-001','AG-S-050','AH-S-001','AH-S-056','AI-S-004','AI-S-063','AV-S-001','AV-S-123','BA-S-001','BA-S-103','BJ-S-001','BJ-S-034','CC-S-001','CC-S-075','CL-S-001','CL-S-057','FA-S-001','FA-S-050','FR-S-001','FR-S-063','HR-S-001','HR-S-043','J-S-001','J-S-071','MC-S-001','MC-S-057','MI-S-001','MI-S-062','MK-S-001','MK-S-060','MO-S-001','MO-S-077','M-S-001','M-S-098','NA-S-001','NA-S-040','NO-S-001','NO-S-062','OT-S-001','OT-S-052','PA-S-001','PA-S-048','PB-S-001','PB-S-048','PG-S-001','PG-S-080','PP-S-001','PP-S-061','SA-S-001','SA-S-058','SC-S-001','SC-S-039','SJ-S-001','SJ-S-056','TD-S-001','TD-S-056','TF-S-001','TF-S-036']"
   ]
  },
  {
   "cell_type": "code",
   "execution_count": 67,
   "metadata": {},
   "outputs": [],
   "source": [
    "target_list = []\n",
    "for file in img_files:\n",
    "    target_num = str(file.split(\".\")[0])\n",
    "    flag = 0\n",
    "    i = 0 \n",
    "    for i in range(0,len(breakpoints),2):\n",
    "        if((target_num >= breakpoints[i]) and (target_num <= breakpoints[i+1])):\n",
    "            flag = 1\n",
    "            break\n",
    "    if(flag==1):\n",
    "        target = int((i/2))\n",
    "        target_list.append(target)"
   ]
  },
  {
   "cell_type": "code",
   "execution_count": 68,
   "metadata": {},
   "outputs": [
    {
     "data": {
      "text/plain": [
       "array([ 0,  0,  0, ..., 28, 28, 28])"
      ]
     },
     "execution_count": 68,
     "metadata": {},
     "output_type": "execute_result"
    }
   ],
   "source": [
    "y = np.array(target_list)\n",
    "y"
   ]
  },
  {
   "cell_type": "code",
   "execution_count": 69,
   "metadata": {},
   "outputs": [],
   "source": [
    "X = dataset.iloc[:,1:]"
   ]
  },
  {
   "cell_type": "code",
   "execution_count": 70,
   "metadata": {},
   "outputs": [
    {
     "data": {
      "text/html": [
       "<div>\n",
       "<style scoped>\n",
       "    .dataframe tbody tr th:only-of-type {\n",
       "        vertical-align: middle;\n",
       "    }\n",
       "\n",
       "    .dataframe tbody tr th {\n",
       "        vertical-align: top;\n",
       "    }\n",
       "\n",
       "    .dataframe thead th {\n",
       "        text-align: right;\n",
       "    }\n",
       "</style>\n",
       "<table border=\"1\" class=\"dataframe\">\n",
       "  <thead>\n",
       "    <tr style=\"text-align: right;\">\n",
       "      <th></th>\n",
       "      <th>area</th>\n",
       "      <th>perimeter</th>\n",
       "      <th>physiological_length</th>\n",
       "      <th>physiological_width</th>\n",
       "      <th>aspect_ratio</th>\n",
       "      <th>rectangularity</th>\n",
       "      <th>circularity</th>\n",
       "      <th>mean_r</th>\n",
       "      <th>mean_g</th>\n",
       "      <th>mean_b</th>\n",
       "      <th>stddev_r</th>\n",
       "      <th>stddev_g</th>\n",
       "      <th>stddev_b</th>\n",
       "      <th>contrast</th>\n",
       "      <th>correlation</th>\n",
       "      <th>inverse_difference_moments</th>\n",
       "      <th>entropy</th>\n",
       "    </tr>\n",
       "  </thead>\n",
       "  <tbody>\n",
       "    <tr>\n",
       "      <th>0</th>\n",
       "      <td>232549.0</td>\n",
       "      <td>3144.089858</td>\n",
       "      <td>1180</td>\n",
       "      <td>841</td>\n",
       "      <td>1.403092</td>\n",
       "      <td>4.267402</td>\n",
       "      <td>42.508465</td>\n",
       "      <td>8.865354</td>\n",
       "      <td>11.580899</td>\n",
       "      <td>8.398964</td>\n",
       "      <td>27.800215</td>\n",
       "      <td>32.902279</td>\n",
       "      <td>27.403357</td>\n",
       "      <td>25.910622</td>\n",
       "      <td>0.996379</td>\n",
       "      <td>0.897422</td>\n",
       "      <td>1.931667</td>\n",
       "    </tr>\n",
       "    <tr>\n",
       "      <th>1</th>\n",
       "      <td>474562.5</td>\n",
       "      <td>3473.489792</td>\n",
       "      <td>1219</td>\n",
       "      <td>909</td>\n",
       "      <td>1.341034</td>\n",
       "      <td>2.334932</td>\n",
       "      <td>25.423693</td>\n",
       "      <td>23.752019</td>\n",
       "      <td>30.081827</td>\n",
       "      <td>16.240280</td>\n",
       "      <td>43.429020</td>\n",
       "      <td>53.242972</td>\n",
       "      <td>33.112202</td>\n",
       "      <td>19.731937</td>\n",
       "      <td>0.997756</td>\n",
       "      <td>0.822875</td>\n",
       "      <td>3.369693</td>\n",
       "    </tr>\n",
       "    <tr>\n",
       "      <th>2</th>\n",
       "      <td>419871.0</td>\n",
       "      <td>3987.515395</td>\n",
       "      <td>1411</td>\n",
       "      <td>1160</td>\n",
       "      <td>1.216379</td>\n",
       "      <td>3.898245</td>\n",
       "      <td>37.869439</td>\n",
       "      <td>17.470908</td>\n",
       "      <td>23.944648</td>\n",
       "      <td>13.222306</td>\n",
       "      <td>36.482656</td>\n",
       "      <td>46.329772</td>\n",
       "      <td>31.868380</td>\n",
       "      <td>22.333380</td>\n",
       "      <td>0.997727</td>\n",
       "      <td>0.846861</td>\n",
       "      <td>3.018129</td>\n",
       "    </tr>\n",
       "    <tr>\n",
       "      <th>3</th>\n",
       "      <td>435572.0</td>\n",
       "      <td>3009.041968</td>\n",
       "      <td>985</td>\n",
       "      <td>807</td>\n",
       "      <td>1.220570</td>\n",
       "      <td>1.824945</td>\n",
       "      <td>20.787226</td>\n",
       "      <td>19.343993</td>\n",
       "      <td>25.105472</td>\n",
       "      <td>14.664246</td>\n",
       "      <td>37.988880</td>\n",
       "      <td>47.365957</td>\n",
       "      <td>31.541931</td>\n",
       "      <td>20.139154</td>\n",
       "      <td>0.997820</td>\n",
       "      <td>0.840751</td>\n",
       "      <td>3.097287</td>\n",
       "    </tr>\n",
       "    <tr>\n",
       "      <th>4</th>\n",
       "      <td>238858.5</td>\n",
       "      <td>4008.541857</td>\n",
       "      <td>1494</td>\n",
       "      <td>1154</td>\n",
       "      <td>1.294627</td>\n",
       "      <td>7.217981</td>\n",
       "      <td>67.271660</td>\n",
       "      <td>11.221184</td>\n",
       "      <td>14.514543</td>\n",
       "      <td>8.780794</td>\n",
       "      <td>32.630938</td>\n",
       "      <td>39.284535</td>\n",
       "      <td>29.519376</td>\n",
       "      <td>23.323631</td>\n",
       "      <td>0.996223</td>\n",
       "      <td>0.893048</td>\n",
       "      <td>2.002692</td>\n",
       "    </tr>\n",
       "  </tbody>\n",
       "</table>\n",
       "</div>"
      ],
      "text/plain": [
       "       area    perimeter  physiological_length  physiological_width  \\\n",
       "0  232549.0  3144.089858                  1180                  841   \n",
       "1  474562.5  3473.489792                  1219                  909   \n",
       "2  419871.0  3987.515395                  1411                 1160   \n",
       "3  435572.0  3009.041968                   985                  807   \n",
       "4  238858.5  4008.541857                  1494                 1154   \n",
       "\n",
       "   aspect_ratio  rectangularity  circularity     mean_r     mean_g     mean_b  \\\n",
       "0      1.403092        4.267402    42.508465   8.865354  11.580899   8.398964   \n",
       "1      1.341034        2.334932    25.423693  23.752019  30.081827  16.240280   \n",
       "2      1.216379        3.898245    37.869439  17.470908  23.944648  13.222306   \n",
       "3      1.220570        1.824945    20.787226  19.343993  25.105472  14.664246   \n",
       "4      1.294627        7.217981    67.271660  11.221184  14.514543   8.780794   \n",
       "\n",
       "    stddev_r   stddev_g   stddev_b   contrast  correlation  \\\n",
       "0  27.800215  32.902279  27.403357  25.910622     0.996379   \n",
       "1  43.429020  53.242972  33.112202  19.731937     0.997756   \n",
       "2  36.482656  46.329772  31.868380  22.333380     0.997727   \n",
       "3  37.988880  47.365957  31.541931  20.139154     0.997820   \n",
       "4  32.630938  39.284535  29.519376  23.323631     0.996223   \n",
       "\n",
       "   inverse_difference_moments   entropy  \n",
       "0                    0.897422  1.931667  \n",
       "1                    0.822875  3.369693  \n",
       "2                    0.846861  3.018129  \n",
       "3                    0.840751  3.097287  \n",
       "4                    0.893048  2.002692  "
      ]
     },
     "execution_count": 70,
     "metadata": {},
     "output_type": "execute_result"
    }
   ],
   "source": [
    "X.head(5)"
   ]
  },
  {
   "cell_type": "code",
   "execution_count": 71,
   "metadata": {},
   "outputs": [
    {
     "data": {
      "text/plain": [
       "array([0, 0, 0, 0, 0])"
      ]
     },
     "execution_count": 71,
     "metadata": {},
     "output_type": "execute_result"
    }
   ],
   "source": [
    "y[0:5]"
   ]
  },
  {
   "cell_type": "markdown",
   "metadata": {},
   "source": [
    "### Train test split"
   ]
  },
  {
   "cell_type": "code",
   "execution_count": 72,
   "metadata": {},
   "outputs": [],
   "source": [
    "from sklearn.model_selection import train_test_split"
   ]
  },
  {
   "cell_type": "code",
   "execution_count": 73,
   "metadata": {},
   "outputs": [],
   "source": [
    "X_train, X_test, y_train, y_test = train_test_split(X, y, test_size=0.1, random_state = 150)"
   ]
  },
  {
   "cell_type": "code",
   "execution_count": 74,
   "metadata": {},
   "outputs": [
    {
     "data": {
      "text/html": [
       "<div>\n",
       "<style scoped>\n",
       "    .dataframe tbody tr th:only-of-type {\n",
       "        vertical-align: middle;\n",
       "    }\n",
       "\n",
       "    .dataframe tbody tr th {\n",
       "        vertical-align: top;\n",
       "    }\n",
       "\n",
       "    .dataframe thead th {\n",
       "        text-align: right;\n",
       "    }\n",
       "</style>\n",
       "<table border=\"1\" class=\"dataframe\">\n",
       "  <thead>\n",
       "    <tr style=\"text-align: right;\">\n",
       "      <th></th>\n",
       "      <th>area</th>\n",
       "      <th>perimeter</th>\n",
       "      <th>physiological_length</th>\n",
       "      <th>physiological_width</th>\n",
       "      <th>aspect_ratio</th>\n",
       "      <th>rectangularity</th>\n",
       "      <th>circularity</th>\n",
       "      <th>mean_r</th>\n",
       "      <th>mean_g</th>\n",
       "      <th>mean_b</th>\n",
       "      <th>stddev_r</th>\n",
       "      <th>stddev_g</th>\n",
       "      <th>stddev_b</th>\n",
       "      <th>contrast</th>\n",
       "      <th>correlation</th>\n",
       "      <th>inverse_difference_moments</th>\n",
       "      <th>entropy</th>\n",
       "    </tr>\n",
       "  </thead>\n",
       "  <tbody>\n",
       "    <tr>\n",
       "      <th>1336</th>\n",
       "      <td>707863.5</td>\n",
       "      <td>3540.592382</td>\n",
       "      <td>950</td>\n",
       "      <td>1131</td>\n",
       "      <td>0.839965</td>\n",
       "      <td>1.517877</td>\n",
       "      <td>17.709339</td>\n",
       "      <td>41.725172</td>\n",
       "      <td>53.693893</td>\n",
       "      <td>23.598975</td>\n",
       "      <td>57.686887</td>\n",
       "      <td>71.332926</td>\n",
       "      <td>40.033748</td>\n",
       "      <td>6.632635</td>\n",
       "      <td>0.999229</td>\n",
       "      <td>0.777151</td>\n",
       "      <td>4.716627</td>\n",
       "    </tr>\n",
       "    <tr>\n",
       "      <th>1578</th>\n",
       "      <td>793838.0</td>\n",
       "      <td>3573.129402</td>\n",
       "      <td>1267</td>\n",
       "      <td>914</td>\n",
       "      <td>1.386214</td>\n",
       "      <td>1.458784</td>\n",
       "      <td>16.082946</td>\n",
       "      <td>34.653180</td>\n",
       "      <td>43.114845</td>\n",
       "      <td>27.035207</td>\n",
       "      <td>44.514394</td>\n",
       "      <td>52.905487</td>\n",
       "      <td>36.756363</td>\n",
       "      <td>61.573990</td>\n",
       "      <td>0.995469</td>\n",
       "      <td>0.655099</td>\n",
       "      <td>5.684861</td>\n",
       "    </tr>\n",
       "    <tr>\n",
       "      <th>316</th>\n",
       "      <td>967797.5</td>\n",
       "      <td>3903.999457</td>\n",
       "      <td>1208</td>\n",
       "      <td>1111</td>\n",
       "      <td>1.087309</td>\n",
       "      <td>1.386745</td>\n",
       "      <td>15.748348</td>\n",
       "      <td>48.869164</td>\n",
       "      <td>69.079396</td>\n",
       "      <td>35.262064</td>\n",
       "      <td>51.528744</td>\n",
       "      <td>69.669049</td>\n",
       "      <td>41.826246</td>\n",
       "      <td>12.055270</td>\n",
       "      <td>0.998847</td>\n",
       "      <td>0.664963</td>\n",
       "      <td>6.235633</td>\n",
       "    </tr>\n",
       "    <tr>\n",
       "      <th>1016</th>\n",
       "      <td>273020.5</td>\n",
       "      <td>2371.250112</td>\n",
       "      <td>580</td>\n",
       "      <td>926</td>\n",
       "      <td>0.626350</td>\n",
       "      <td>1.967178</td>\n",
       "      <td>20.594890</td>\n",
       "      <td>13.069031</td>\n",
       "      <td>18.020537</td>\n",
       "      <td>13.916281</td>\n",
       "      <td>34.265194</td>\n",
       "      <td>44.560523</td>\n",
       "      <td>35.560063</td>\n",
       "      <td>6.354908</td>\n",
       "      <td>0.998917</td>\n",
       "      <td>0.902751</td>\n",
       "      <td>2.126901</td>\n",
       "    </tr>\n",
       "    <tr>\n",
       "      <th>1202</th>\n",
       "      <td>442217.0</td>\n",
       "      <td>3571.732432</td>\n",
       "      <td>1449</td>\n",
       "      <td>707</td>\n",
       "      <td>2.049505</td>\n",
       "      <td>2.316607</td>\n",
       "      <td>28.848444</td>\n",
       "      <td>18.722153</td>\n",
       "      <td>21.992918</td>\n",
       "      <td>15.201116</td>\n",
       "      <td>36.983025</td>\n",
       "      <td>42.026400</td>\n",
       "      <td>33.054283</td>\n",
       "      <td>40.727723</td>\n",
       "      <td>0.996266</td>\n",
       "      <td>0.797570</td>\n",
       "      <td>3.531231</td>\n",
       "    </tr>\n",
       "  </tbody>\n",
       "</table>\n",
       "</div>"
      ],
      "text/plain": [
       "          area    perimeter  physiological_length  physiological_width  \\\n",
       "1336  707863.5  3540.592382                   950                 1131   \n",
       "1578  793838.0  3573.129402                  1267                  914   \n",
       "316   967797.5  3903.999457                  1208                 1111   \n",
       "1016  273020.5  2371.250112                   580                  926   \n",
       "1202  442217.0  3571.732432                  1449                  707   \n",
       "\n",
       "      aspect_ratio  rectangularity  circularity     mean_r     mean_g  \\\n",
       "1336      0.839965        1.517877    17.709339  41.725172  53.693893   \n",
       "1578      1.386214        1.458784    16.082946  34.653180  43.114845   \n",
       "316       1.087309        1.386745    15.748348  48.869164  69.079396   \n",
       "1016      0.626350        1.967178    20.594890  13.069031  18.020537   \n",
       "1202      2.049505        2.316607    28.848444  18.722153  21.992918   \n",
       "\n",
       "         mean_b   stddev_r   stddev_g   stddev_b   contrast  correlation  \\\n",
       "1336  23.598975  57.686887  71.332926  40.033748   6.632635     0.999229   \n",
       "1578  27.035207  44.514394  52.905487  36.756363  61.573990     0.995469   \n",
       "316   35.262064  51.528744  69.669049  41.826246  12.055270     0.998847   \n",
       "1016  13.916281  34.265194  44.560523  35.560063   6.354908     0.998917   \n",
       "1202  15.201116  36.983025  42.026400  33.054283  40.727723     0.996266   \n",
       "\n",
       "      inverse_difference_moments   entropy  \n",
       "1336                    0.777151  4.716627  \n",
       "1578                    0.655099  5.684861  \n",
       "316                     0.664963  6.235633  \n",
       "1016                    0.902751  2.126901  \n",
       "1202                    0.797570  3.531231  "
      ]
     },
     "execution_count": 74,
     "metadata": {},
     "output_type": "execute_result"
    }
   ],
   "source": [
    "X_train.head(5)"
   ]
  },
  {
   "cell_type": "code",
   "execution_count": 75,
   "metadata": {},
   "outputs": [
    {
     "data": {
      "text/plain": [
       "array([21, 25,  4, 14, 18])"
      ]
     },
     "execution_count": 75,
     "metadata": {},
     "output_type": "execute_result"
    }
   ],
   "source": [
    "y_train[0:5]"
   ]
  },
  {
   "cell_type": "markdown",
   "metadata": {},
   "source": [
    "### Feature Scaling"
   ]
  },
  {
   "cell_type": "code",
   "execution_count": 76,
   "metadata": {},
   "outputs": [],
   "source": [
    "from sklearn.preprocessing import StandardScaler"
   ]
  },
  {
   "cell_type": "code",
   "execution_count": 77,
   "metadata": {},
   "outputs": [],
   "source": [
    "sc_X = StandardScaler()\n",
    "X_train = sc_X.fit_transform(X_train)\n",
    "X_test = sc_X.transform(X_test)"
   ]
  },
  {
   "cell_type": "code",
   "execution_count": 78,
   "metadata": {},
   "outputs": [
    {
     "data": {
      "text/plain": [
       "array([[ 4.31944347e-01,  2.35169279e-01, -4.88652461e-01,\n",
       "         1.01665660e+00, -7.73837459e-01, -3.22874685e-01,\n",
       "        -3.57132940e-01,  1.12686961e+00,  1.30440561e+00,\n",
       "         6.22215326e-01,  1.68967395e+00,  1.94802863e+00,\n",
       "         1.07101673e+00, -1.12937428e+00,  1.18639186e+00,\n",
       "         3.35031006e-01,  1.67282021e-01],\n",
       "       [ 8.43182346e-01,  2.81920039e-01,  5.17502924e-01,\n",
       "         1.87469891e-03,  1.79215322e-01, -3.95743534e-01,\n",
       "        -5.61501569e-01,  4.90722836e-01,  5.22136242e-01,\n",
       "         1.01942093e+00,  1.15976900e-01,  1.31029220e-01,\n",
       "         5.72074371e-01,  7.71875245e-01, -5.49276635e-01,\n",
       "        -1.19253976e+00,  9.42401101e-01]])"
      ]
     },
     "execution_count": 78,
     "metadata": {},
     "output_type": "execute_result"
    }
   ],
   "source": [
    "X_train[0:2]"
   ]
  },
  {
   "cell_type": "code",
   "execution_count": 79,
   "metadata": {
    "scrolled": true
   },
   "outputs": [
    {
     "data": {
      "text/plain": [
       "array([21, 25])"
      ]
     },
     "execution_count": 79,
     "metadata": {},
     "output_type": "execute_result"
    }
   ],
   "source": [
    "y_train[0:2]"
   ]
  },
  {
   "cell_type": "markdown",
   "metadata": {},
   "source": [
    "## Applying Random Forest Model"
   ]
  },
  {
   "cell_type": "code",
   "execution_count": 80,
   "metadata": {},
   "outputs": [],
   "source": [
    "from sklearn.ensemble import RandomForestClassifier"
   ]
  },
  {
   "cell_type": "code",
   "execution_count": 81,
   "metadata": {},
   "outputs": [
    {
     "data": {
      "text/plain": [
       "RandomForestClassifier()"
      ]
     },
     "execution_count": 81,
     "metadata": {},
     "output_type": "execute_result"
    }
   ],
   "source": [
    "model=RandomForestClassifier()\n",
    "model.fit(X_train,y_train)"
   ]
  },
  {
   "cell_type": "code",
   "execution_count": 82,
   "metadata": {},
   "outputs": [],
   "source": [
    "y_pred=model.predict(X_test)"
   ]
  },
  {
   "cell_type": "code",
   "execution_count": 83,
   "metadata": {
    "scrolled": true
   },
   "outputs": [
    {
     "data": {
      "text/plain": [
       "0.8587570621468926"
      ]
     },
     "execution_count": 83,
     "metadata": {},
     "output_type": "execute_result"
    }
   ],
   "source": [
    "from sklearn.metrics import accuracy_score\n",
    "accuracy_score(y_pred,y_test)"
   ]
  },
  {
   "cell_type": "code",
   "execution_count": 84,
   "metadata": {},
   "outputs": [
    {
     "name": "stdout",
     "output_type": "stream",
     "text": [
      "              precision    recall  f1-score   support\n",
      "\n",
      "           0       1.00      1.00      1.00         2\n",
      "           1       0.86      1.00      0.92         6\n",
      "           2       1.00      1.00      1.00         2\n",
      "           3       0.87      0.81      0.84        16\n",
      "           4       0.87      0.93      0.90        14\n",
      "           5       0.75      1.00      0.86         3\n",
      "           6       1.00      0.88      0.93         8\n",
      "           7       0.33      0.33      0.33         3\n",
      "           8       1.00      1.00      1.00         3\n",
      "           9       1.00      0.50      0.67         6\n",
      "          10       0.40      1.00      0.57         2\n",
      "          11       1.00      1.00      1.00         7\n",
      "          12       0.86      0.86      0.86         7\n",
      "          13       1.00      0.80      0.89        10\n",
      "          14       0.67      0.50      0.57         4\n",
      "          15       1.00      0.92      0.96        12\n",
      "          16       1.00      0.93      0.96        14\n",
      "          17       0.00      0.00      0.00         0\n",
      "          18       0.57      1.00      0.73         4\n",
      "          19       0.60      0.75      0.67         4\n",
      "          20       1.00      0.75      0.86         4\n",
      "          21       0.60      0.60      0.60         5\n",
      "          22       1.00      0.88      0.93         8\n",
      "          23       1.00      0.83      0.91         6\n",
      "          24       0.83      1.00      0.91         5\n",
      "          25       1.00      1.00      1.00         3\n",
      "          26       1.00      0.86      0.92         7\n",
      "          27       0.67      0.67      0.67         3\n",
      "          28       1.00      1.00      1.00         9\n",
      "\n",
      "    accuracy                           0.86       177\n",
      "   macro avg       0.82      0.82      0.81       177\n",
      "weighted avg       0.90      0.86      0.87       177\n",
      "\n"
     ]
    },
    {
     "name": "stderr",
     "output_type": "stream",
     "text": [
      "C:\\Users\\Ayush\\anaconda3\\lib\\site-packages\\sklearn\\metrics\\_classification.py:1221: UndefinedMetricWarning: Recall and F-score are ill-defined and being set to 0.0 in labels with no true samples. Use `zero_division` parameter to control this behavior.\n",
      "  _warn_prf(average, modifier, msg_start, len(result))\n"
     ]
    }
   ],
   "source": [
    "from sklearn.metrics import accuracy_score,confusion_matrix,classification_report\n",
    "import numpy as np\n",
    "print(classification_report(y_pred,y_test))"
   ]
  },
  {
   "cell_type": "markdown",
   "metadata": {},
   "source": [
    "## SVM"
   ]
  },
  {
   "cell_type": "code",
   "execution_count": 85,
   "metadata": {},
   "outputs": [
    {
     "data": {
      "text/plain": [
       "0.8587570621468926"
      ]
     },
     "execution_count": 85,
     "metadata": {},
     "output_type": "execute_result"
    }
   ],
   "source": [
    "from sklearn import svm\n",
    "clf = svm.SVC()\n",
    "clf.fit(X_train,y_train)\n",
    "y2 = clf.predict(X_test)\n",
    "from sklearn import metrics\n",
    "metrics.accuracy_score(y_test, y2)"
   ]
  },
  {
   "cell_type": "code",
   "execution_count": 86,
   "metadata": {},
   "outputs": [
    {
     "name": "stdout",
     "output_type": "stream",
     "text": [
      "              precision    recall  f1-score   support\n",
      "\n",
      "           0       1.00      1.00      1.00         2\n",
      "           1       1.00      0.86      0.92         7\n",
      "           2       0.50      1.00      0.67         2\n",
      "           3       0.78      0.93      0.85        15\n",
      "           4       0.88      0.93      0.90        15\n",
      "           5       1.00      1.00      1.00         4\n",
      "           6       0.78      1.00      0.88         7\n",
      "           7       0.00      0.00      0.00         3\n",
      "           8       1.00      0.67      0.80         3\n",
      "           9       0.50      0.67      0.57         3\n",
      "          10       1.00      0.60      0.75         5\n",
      "          11       0.88      1.00      0.93         7\n",
      "          12       0.88      1.00      0.93         7\n",
      "          13       0.89      1.00      0.94         8\n",
      "          14       0.50      0.67      0.57         3\n",
      "          15       0.92      1.00      0.96        11\n",
      "          16       1.00      1.00      1.00        13\n",
      "          17       1.00      0.33      0.50         3\n",
      "          18       0.83      0.71      0.77         7\n",
      "          19       1.00      0.40      0.57         5\n",
      "          20       0.60      1.00      0.75         3\n",
      "          21       1.00      0.40      0.57         5\n",
      "          22       1.00      0.86      0.92         7\n",
      "          23       0.83      1.00      0.91         5\n",
      "          24       1.00      1.00      1.00         6\n",
      "          25       1.00      0.67      0.80         3\n",
      "          26       0.83      0.83      0.83         6\n",
      "          27       0.50      0.67      0.57         3\n",
      "          28       1.00      1.00      1.00         9\n",
      "\n",
      "    accuracy                           0.86       177\n",
      "   macro avg       0.83      0.80      0.79       177\n",
      "weighted avg       0.87      0.86      0.85       177\n",
      "\n"
     ]
    },
    {
     "name": "stderr",
     "output_type": "stream",
     "text": [
      "C:\\Users\\Ayush\\anaconda3\\lib\\site-packages\\sklearn\\metrics\\_classification.py:1221: UndefinedMetricWarning: Precision and F-score are ill-defined and being set to 0.0 in labels with no predicted samples. Use `zero_division` parameter to control this behavior.\n",
      "  _warn_prf(average, modifier, msg_start, len(result))\n"
     ]
    }
   ],
   "source": [
    " print(classification_report(y_test, y2))"
   ]
  },
  {
   "cell_type": "markdown",
   "metadata": {},
   "source": [
    "# Testing with mobile captured leaves which are not classified"
   ]
  },
  {
   "cell_type": "code",
   "execution_count": 87,
   "metadata": {},
   "outputs": [],
   "source": [
    "import os\n",
    "import cv2"
   ]
  },
  {
   "cell_type": "code",
   "execution_count": 98,
   "metadata": {},
   "outputs": [],
   "source": [
    "def bg_sub(filename):\n",
    "    test_img_path = 'D:\\Segmented Medicinal Leaf Images\\standardleaves\\\\' + filename\n",
    "    main_img = cv2.imread(test_img_path)\n",
    "    img = cv2.cvtColor(main_img, cv2.COLOR_BGR2RGB)\n",
    "    resized_image = cv2.resize(img, (1600, 1200))\n",
    "    size_y,size_x,_ = img.shape\n",
    "    gs = cv2.cvtColor(resized_image,cv2.COLOR_RGB2GRAY)\n",
    "    blur = cv2.GaussianBlur(gs, (55,55),0)\n",
    "    ret_otsu,im_bw_otsu = cv2.threshold(blur,0,255,cv2.THRESH_BINARY_INV+cv2.THRESH_OTSU)\n",
    "    kernel = np.ones((50,50),np.uint8)\n",
    "    closing = cv2.morphologyEx(im_bw_otsu, cv2.MORPH_CLOSE, kernel)\n",
    "    \n",
    "    contours, hierarchy = cv2.findContours(closing,cv2.RETR_TREE,cv2.CHAIN_APPROX_SIMPLE)\n",
    "    \n",
    "    contains = []\n",
    "    y_ri,x_ri, _ = resized_image.shape\n",
    "    for cc in contours:\n",
    "        yn = cv2.pointPolygonTest(cc,(x_ri//2,y_ri//2),False)\n",
    "        contains.append(yn)\n",
    "\n",
    "    val = [contains.index(temp) for temp in contains if temp>0]\n",
    "    index = val[0]\n",
    "    \n",
    "    black_img = np.empty([1200,1600,3],dtype=np.uint8)\n",
    "    black_img.fill(0)\n",
    "    \n",
    "    cnt = contours[index]\n",
    "    mask = cv2.drawContours(black_img, [cnt] , 0, (255,255,255), -1)\n",
    "    \n",
    "    maskedImg = cv2.bitwise_and(resized_image, mask)\n",
    "    white_pix = [255,255,255]\n",
    "    black_pix = [0,0,0]\n",
    "    \n",
    "    final_img = maskedImg\n",
    "    h,w,channels = final_img.shape\n",
    "    for x in range(0,w):\n",
    "        for y in range(0,h):\n",
    "            channels_xy = final_img[y,x]\n",
    "            if all(channels_xy == black_pix):\n",
    "                final_img[y,x] = white_pix\n",
    "    \n",
    "    return final_img"
   ]
  },
  {
   "cell_type": "code",
   "execution_count": 108,
   "metadata": {
    "scrolled": true
   },
   "outputs": [
    {
     "data": {
      "text/plain": [
       "str"
      ]
     },
     "execution_count": 108,
     "metadata": {},
     "output_type": "execute_result"
    }
   ],
   "source": [
    "filename = 'J.jpg' \n",
    "bg_rem_img = bg_sub(filename)\n",
    "type(filename)"
   ]
  },
  {
   "cell_type": "code",
   "execution_count": 109,
   "metadata": {},
   "outputs": [
    {
     "data": {
      "text/plain": [
       "<matplotlib.image.AxesImage at 0x13fdce8b580>"
      ]
     },
     "execution_count": 109,
     "metadata": {},
     "output_type": "execute_result"
    },
    {
     "data": {
      "image/png": "[encoded data removed]",
      "text/plain": [
       "<Figure size 432x288 with 1 Axes>"
      ]
     },
     "metadata": {
      "needs_background": "light"
     },
     "output_type": "display_data"
    }
   ],
   "source": [
    "import matplotlib.pyplot as plt\n",
    "plt.imshow(bg_rem_img)"
   ]
  },
  {
   "cell_type": "code",
   "execution_count": 110,
   "metadata": {},
   "outputs": [],
   "source": [
    "import mahotas as mt"
   ]
  },
  {
   "cell_type": "code",
   "execution_count": 111,
   "metadata": {},
   "outputs": [],
   "source": [
    "def feature_extract(img):\n",
    "        names = ['area','perimeter','physiological_length','physiological_width','aspect_ratio','rectangularity','circularity', \\\n",
    "             'mean_r','mean_g','mean_b','stddev_r','stddev_g','stddev_b', \\\n",
    "             'contrast','correlation','inverse_difference_moments','entropy'\n",
    "                ]\n",
    "        df = pd.DataFrame([], columns=names)\n",
    "\n",
    "        \n",
    "\n",
    "        #Preprocessing\n",
    "        gs = cv2.cvtColor(img,cv2.COLOR_RGB2GRAY)\n",
    "        blur = cv2.GaussianBlur(gs, (25,25),0)\n",
    "        ret_otsu,im_bw_otsu = cv2.threshold(blur,0,255,cv2.THRESH_BINARY_INV+cv2.THRESH_OTSU)\n",
    "        kernel = np.ones((50,50),np.uint8)\n",
    "        closing = cv2.morphologyEx(im_bw_otsu, cv2.MORPH_CLOSE, kernel)\n",
    "\n",
    "        #Shape features\n",
    "        contours, image = cv2.findContours(closing,cv2.RETR_TREE,cv2.CHAIN_APPROX_SIMPLE)\n",
    "        cnt = contours[0]\n",
    "        M = cv2.moments(cnt)\n",
    "        area = cv2.contourArea(cnt)\n",
    "        perimeter = cv2.arcLength(cnt,True)\n",
    "        x,y,w,h = cv2.boundingRect(cnt)\n",
    "        aspect_ratio = float(w)/h\n",
    "        rectangularity = w*h/area\n",
    "        circularity = ((perimeter)**2)/area\n",
    "\n",
    "        #Color features\n",
    "        red_channel = img[:,:,0]\n",
    "        green_channel = img[:,:,1]\n",
    "        blue_channel = img[:,:,2]\n",
    "        blue_channel[blue_channel == 255] = 0\n",
    "        green_channel[green_channel == 255] = 0\n",
    "        red_channel[red_channel == 255] = 0\n",
    "\n",
    "        red_mean = np.mean(red_channel)\n",
    "        green_mean = np.mean(green_channel)\n",
    "        blue_mean = np.mean(blue_channel)\n",
    "\n",
    "        red_std = np.std(red_channel)\n",
    "        green_std = np.std(green_channel)\n",
    "        blue_std = np.std(blue_channel)\n",
    "\n",
    "        #Texture features\n",
    "        textures = mt.features.haralick(gs)\n",
    "        ht_mean = textures.mean(axis=0)\n",
    "        contrast = ht_mean[1]\n",
    "        correlation = ht_mean[2]\n",
    "        inverse_diff_moments = ht_mean[4]\n",
    "        entropy = ht_mean[8]\n",
    "\n",
    "        vector = [area,perimeter,w,h,aspect_ratio,rectangularity,circularity,\\\n",
    "                  red_mean,green_mean,blue_mean,red_std,green_std,blue_std,\\\n",
    "                  contrast,correlation,inverse_diff_moments,entropy\n",
    "                 ]\n",
    "\n",
    "        df_temp = pd.DataFrame([vector],columns=names)\n",
    "        df = df.append(df_temp)\n",
    "\n",
    "        return df"
   ]
  },
  {
   "cell_type": "code",
   "execution_count": 112,
   "metadata": {},
   "outputs": [
    {
     "data": {
      "text/html": [
       "<div>\n",
       "<style scoped>\n",
       "    .dataframe tbody tr th:only-of-type {\n",
       "        vertical-align: middle;\n",
       "    }\n",
       "\n",
       "    .dataframe tbody tr th {\n",
       "        vertical-align: top;\n",
       "    }\n",
       "\n",
       "    .dataframe thead th {\n",
       "        text-align: right;\n",
       "    }\n",
       "</style>\n",
       "<table border=\"1\" class=\"dataframe\">\n",
       "  <thead>\n",
       "    <tr style=\"text-align: right;\">\n",
       "      <th></th>\n",
       "      <th>area</th>\n",
       "      <th>perimeter</th>\n",
       "      <th>physiological_length</th>\n",
       "      <th>physiological_width</th>\n",
       "      <th>aspect_ratio</th>\n",
       "      <th>rectangularity</th>\n",
       "      <th>circularity</th>\n",
       "      <th>mean_r</th>\n",
       "      <th>mean_g</th>\n",
       "      <th>mean_b</th>\n",
       "      <th>stddev_r</th>\n",
       "      <th>stddev_g</th>\n",
       "      <th>stddev_b</th>\n",
       "      <th>contrast</th>\n",
       "      <th>correlation</th>\n",
       "      <th>inverse_difference_moments</th>\n",
       "      <th>entropy</th>\n",
       "    </tr>\n",
       "  </thead>\n",
       "  <tbody>\n",
       "    <tr>\n",
       "      <th>0</th>\n",
       "      <td>972695.5</td>\n",
       "      <td>4251.136543</td>\n",
       "      <td>1489</td>\n",
       "      <td>1068</td>\n",
       "      <td>1.394195</td>\n",
       "      <td>1.634892</td>\n",
       "      <td>18.579465</td>\n",
       "      <td>35.440147</td>\n",
       "      <td>47.791309</td>\n",
       "      <td>35.846433</td>\n",
       "      <td>37.469037</td>\n",
       "      <td>49.871581</td>\n",
       "      <td>38.34204</td>\n",
       "      <td>50.155286</td>\n",
       "      <td>0.996689</td>\n",
       "      <td>0.634467</td>\n",
       "      <td>6.276362</td>\n",
       "    </tr>\n",
       "  </tbody>\n",
       "</table>\n",
       "</div>"
      ],
      "text/plain": [
       "       area    perimeter physiological_length physiological_width  \\\n",
       "0  972695.5  4251.136543                 1489                1068   \n",
       "\n",
       "   aspect_ratio  rectangularity  circularity     mean_r     mean_g     mean_b  \\\n",
       "0      1.394195        1.634892    18.579465  35.440147  47.791309  35.846433   \n",
       "\n",
       "    stddev_r   stddev_g  stddev_b   contrast  correlation  \\\n",
       "0  37.469037  49.871581  38.34204  50.155286     0.996689   \n",
       "\n",
       "   inverse_difference_moments   entropy  \n",
       "0                    0.634467  6.276362  "
      ]
     },
     "execution_count": 112,
     "metadata": {},
     "output_type": "execute_result"
    }
   ],
   "source": [
    "features_of_img = feature_extract(bg_rem_img)\n",
    "features_of_img"
   ]
  },
  {
   "cell_type": "code",
   "execution_count": 113,
   "metadata": {
    "scrolled": true
   },
   "outputs": [
    {
     "name": "stdout",
     "output_type": "stream",
     "text": [
      "[[ 1.69870346  1.25611342  1.22212909  0.7220425   0.19313873 -0.17858304\n",
      "  -0.24779494  0.56151284  0.8679381   2.03794007 -0.72572081 -0.16812277\n",
      "   0.81347462  0.37673016  0.01418947 -1.45076533  1.41592802]]\n"
     ]
    },
    {
     "data": {
      "text/plain": [
       "1"
      ]
     },
     "execution_count": 113,
     "metadata": {},
     "output_type": "execute_result"
    }
   ],
   "source": [
    "scaled_features = sc_X.transform(features_of_img)\n",
    "print(scaled_features)\n",
    "y_pred_mobile = clf.predict(scaled_features)\n",
    "y_pred_mobile[0]"
   ]
  },
  {
   "cell_type": "code",
   "execution_count": 114,
   "metadata": {},
   "outputs": [],
   "source": [
    "common_names = ['Rasna','Arive-Dantu','Jackfruit', \\\n",
    "                'Neem','Basale','Indian Mustard','Karanda',' Lemon', \\\n",
    "                'Roxburgh fig','Peepal Tree','Hibiscus Rosa-sinensis','Jasmine', \\\n",
    "                'Mango','Mint','Drumstick','Jamaica Cherry-Gasagase','Curry','Oleander', 'Parijata', \\\n",
    "                'Tulsi', 'Betel','Mexican Mint','Indian Beech','Pomegranate','Sandalwood',\\\n",
    "                'Jamun','Rose Apple','Crape Jasmine','Fenugreek'\n",
    "               ]"
   ]
  },
  {
   "cell_type": "code",
   "execution_count": 115,
   "metadata": {},
   "outputs": [
    {
     "data": {
      "text/plain": [
       "'Arive-Dantu'"
      ]
     },
     "execution_count": 115,
     "metadata": {},
     "output_type": "execute_result"
    }
   ],
   "source": [
    "common_names[y_pred_mobile[0]]"
   ]
  }
 ],
 "metadata": {
  "kernelspec": {
   "display_name": "Python 3",
   "language": "python",
   "name": "python3"
  },
  "language_info": {
   "codemirror_mode": {
    "name": "ipython",
    "version": 3
   },
   "file_extension": ".py",
   "mimetype": "text/x-python",
   "name": "python",
   "nbconvert_exporter": "python",
   "pygments_lexer": "ipython3",
   "version": "3.8.5"
  }
 },
 "nbformat": 4,
 "nbformat_minor": 2
}
